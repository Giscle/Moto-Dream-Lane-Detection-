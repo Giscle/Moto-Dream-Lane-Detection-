{
 "cells": [
  {
   "cell_type": "code",
   "execution_count": 121,
   "metadata": {
    "collapsed": true
   },
   "outputs": [],
   "source": [
    "import cv2\n",
    "import numpy as np\n",
    "import math"
   ]
  },
  {
   "cell_type": "code",
   "execution_count": 128,
   "metadata": {
    "collapsed": true
   },
   "outputs": [],
   "source": [
    "def hough_transform(original, gray_img, threshold):\n",
    "    \"\"\"\n",
    "    A function fitting lines that intersect >=threshold white pixels\n",
    "    Input:\n",
    "    - original - image we want to draw lines on\n",
    "    - gray_img - image with white/black pixels, e.g. a result of Canny Edge Detection\n",
    "    - threshold - if a line intersects more than threshold white pixels, draw it\n",
    "    Return:\n",
    "    - image_lines - result of applying the function\n",
    "    \"\"\"\n",
    "    lines = cv2.HoughLines(gray_img, 0.5, np.pi / 360, threshold)\n",
    "    image_lines = original\n",
    "    \n",
    "    if lines is not None:\n",
    "        for i in range(0, len(lines)):\n",
    "            rho = lines[i][0][0]\n",
    "            theta = lines[i][0][1]\n",
    "            #discard horizontal lines\n",
    "            m_abs = abs(-math.cos(theta)/(math.sin(theta)+1e-10)) #adding some small value to avoid dividing by 0\n",
    "            if m_abs < 0.7:\n",
    "                continue\n",
    "            else:\n",
    "                a = math.cos(theta)\n",
    "                b = math.sin(theta)\n",
    "                x0 = a * rho\n",
    "                y0 = b * rho\n",
    "                pt1 = (int(x0 + 1000*(-b)), int(y0 + 1000*(a)))\n",
    "                pt2 = (int(x0 - 1000*(-b)), int(y0 - 1000*(a)))\n",
    "                cv2.line(image_lines, pt1, pt2, (0,0,255), 2, cv2.LINE_AA)\n",
    "    \n",
    "    return image_lines"
   ]
  }
 ],
 "metadata": {
  "kernelspec": {
   "display_name": "Python 3",
   "language": "python",
   "name": "python3"
  },
  "language_info": {
   "codemirror_mode": {
    "name": "ipython",
    "version": 3
   },
   "file_extension": ".py",
   "mimetype": "text/x-python",
   "name": "python",
   "nbconvert_exporter": "python",
   "pygments_lexer": "ipython3",
   "version": "3.6.3"
  }
 },
 "nbformat": 4,
 "nbformat_minor": 2
}
