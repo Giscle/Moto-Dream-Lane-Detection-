{
 "cells": [
  {
   "cell_type": "code",
   "execution_count": 1,
   "metadata": {
    "collapsed": true
   },
   "outputs": [],
   "source": [
    "import cv2\n",
    "import numpy as np"
   ]
  },
  {
   "cell_type": "code",
   "execution_count": 52,
   "metadata": {},
   "outputs": [],
   "source": [
    "def ROI_apply(image, poli_corners):\n",
    "    \"\"\"\n",
    "    A function applying a mask for creating Region Of Interest\n",
    "    Inputs:\n",
    "    - image - image you want to apply the function on\n",
    "    - poli_corners - array giving coordinates of corners for creating ROI\n",
    "    Returns:\n",
    "    - ROI_image - image with ROI mask applied\n",
    "    \"\"\"\n",
    "    #creating a mask and marking ROI\n",
    "    mask = np.zeros(image.shape, dtype=np.uint8)\n",
    "    mask = cv2.fillPoly(mask, poli_corners, (255,255,255))\n",
    "    #applying mask on image\n",
    "    ROI_image = cv2.bitwise_and(image,mask)\n",
    "    \n",
    "    return ROI_image"
   ]
  }
 ],
 "metadata": {
  "kernelspec": {
   "display_name": "Python 3",
   "language": "python",
   "name": "python3"
  },
  "language_info": {
   "codemirror_mode": {
    "name": "ipython",
    "version": 3
   },
   "file_extension": ".py",
   "mimetype": "text/x-python",
   "name": "python",
   "nbconvert_exporter": "python",
   "pygments_lexer": "ipython3",
   "version": "3.6.3"
  }
 },
 "nbformat": 4,
 "nbformat_minor": 2
}
